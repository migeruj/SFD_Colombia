{
 "cells": [
  {
   "cell_type": "code",
   "execution_count": 1,
   "id": "1e5b6440-3439-4eb1-8da4-8ee1242e31fe",
   "metadata": {},
   "outputs": [],
   "source": [
    "import pandas as pd\n",
    "from sklearn.model_selection import train_test_split\n",
    "import h2o\n",
    "from h2o.automl import H2OAutoML\n",
    "\n",
    "### Loading Data ###\n",
    "data = pd.read_csv('valid.csv')"
   ]
  },
  {
   "cell_type": "code",
   "execution_count": 2,
   "id": "a928986c-e19d-4b6a-b233-db0a3224b896",
   "metadata": {},
   "outputs": [
    {
     "name": "stdout",
     "output_type": "stream",
     "text": [
      "Checking whether there is an H2O instance running at http://localhost:54321 . connected.\n"
     ]
    },
    {
     "data": {
      "text/html": [
       "<div style=\"overflow:auto\"><table style=\"width:50%\"><tr><td>H2O_cluster_uptime:</td>\n",
       "<td>1 hour 36 mins</td></tr>\n",
       "<tr><td>H2O_cluster_timezone:</td>\n",
       "<td>America/Mexico_City</td></tr>\n",
       "<tr><td>H2O_data_parsing_timezone:</td>\n",
       "<td>UTC</td></tr>\n",
       "<tr><td>H2O_cluster_version:</td>\n",
       "<td>3.32.1.3</td></tr>\n",
       "<tr><td>H2O_cluster_version_age:</td>\n",
       "<td>1 month and 9 days </td></tr>\n",
       "<tr><td>H2O_cluster_name:</td>\n",
       "<td>H2O_from_python_migeruj_r574ww</td></tr>\n",
       "<tr><td>H2O_cluster_total_nodes:</td>\n",
       "<td>1</td></tr>\n",
       "<tr><td>H2O_cluster_free_memory:</td>\n",
       "<td>3.610 Gb</td></tr>\n",
       "<tr><td>H2O_cluster_total_cores:</td>\n",
       "<td>20</td></tr>\n",
       "<tr><td>H2O_cluster_allowed_cores:</td>\n",
       "<td>20</td></tr>\n",
       "<tr><td>H2O_cluster_status:</td>\n",
       "<td>locked, healthy</td></tr>\n",
       "<tr><td>H2O_connection_url:</td>\n",
       "<td>http://localhost:54321</td></tr>\n",
       "<tr><td>H2O_connection_proxy:</td>\n",
       "<td>{\"http\": null, \"https\": null}</td></tr>\n",
       "<tr><td>H2O_internal_security:</td>\n",
       "<td>False</td></tr>\n",
       "<tr><td>H2O_API_Extensions:</td>\n",
       "<td>Amazon S3, Algos, AutoML, Core V3, TargetEncoder, Core V4</td></tr>\n",
       "<tr><td>Python_version:</td>\n",
       "<td>3.8.8 final</td></tr></table></div>"
      ],
      "text/plain": [
       "--------------------------  ---------------------------------------------------------\n",
       "H2O_cluster_uptime:         1 hour 36 mins\n",
       "H2O_cluster_timezone:       America/Mexico_City\n",
       "H2O_data_parsing_timezone:  UTC\n",
       "H2O_cluster_version:        3.32.1.3\n",
       "H2O_cluster_version_age:    1 month and 9 days\n",
       "H2O_cluster_name:           H2O_from_python_migeruj_r574ww\n",
       "H2O_cluster_total_nodes:    1\n",
       "H2O_cluster_free_memory:    3.610 Gb\n",
       "H2O_cluster_total_cores:    20\n",
       "H2O_cluster_allowed_cores:  20\n",
       "H2O_cluster_status:         locked, healthy\n",
       "H2O_connection_url:         http://localhost:54321\n",
       "H2O_connection_proxy:       {\"http\": null, \"https\": null}\n",
       "H2O_internal_security:      False\n",
       "H2O_API_Extensions:         Amazon S3, Algos, AutoML, Core V3, TargetEncoder, Core V4\n",
       "Python_version:             3.8.8 final\n",
       "--------------------------  ---------------------------------------------------------"
      ]
     },
     "metadata": {},
     "output_type": "display_data"
    }
   ],
   "source": [
    "### Initialize H2o Cluster ###\n",
    "h2o.init()"
   ]
  },
  {
   "cell_type": "code",
   "execution_count": 3,
   "id": "a48a998d-da76-4e0e-9cf8-f57815067827",
   "metadata": {},
   "outputs": [
    {
     "name": "stdout",
     "output_type": "stream",
     "text": [
      "Parse progress: |█████████████████████████████████████████████████████████| 100%\n"
     ]
    }
   ],
   "source": [
    "valid = h2o.H2OFrame(data)"
   ]
  },
  {
   "cell_type": "code",
   "execution_count": 4,
   "id": "598ee22f-2a8e-4774-a423-33feebcdd3b4",
   "metadata": {},
   "outputs": [],
   "source": [
    "### Load model ###\n",
    "model = h2o.load_model(path='./StackedEnsemble_BestOfFamily_AutoML_20210628_223625')"
   ]
  },
  {
   "cell_type": "code",
   "execution_count": 5,
   "id": "b9f0108b-aaf5-405e-a26c-542493880023",
   "metadata": {},
   "outputs": [
    {
     "name": "stdout",
     "output_type": "stream",
     "text": [
      "stackedensemble prediction progress: |████████████████████████████████████| 100%\n"
     ]
    },
    {
     "name": "stderr",
     "output_type": "stream",
     "text": [
      "C:\\Users\\migeruj\\anaconda3\\lib\\site-packages\\h2o\\job.py:72: UserWarning: Test/Validation dataset column 'SUBJ_DESC' has levels not trained on: [\"DERECHO PENAL\", \"SEGURIDAD INDUSTRIAL\"]\n",
      "  warnings.warn(w)\n"
     ]
    },
    {
     "data": {
      "text/html": [
       "<table>\n",
       "<thead>\n",
       "<tr><th style=\"text-align: right;\">  predict</th><th style=\"text-align: right;\">       p0</th><th style=\"text-align: right;\">      p1</th></tr>\n",
       "</thead>\n",
       "<tbody>\n",
       "<tr><td style=\"text-align: right;\">        1</td><td style=\"text-align: right;\">0.017396 </td><td style=\"text-align: right;\">0.982604</td></tr>\n",
       "<tr><td style=\"text-align: right;\">        1</td><td style=\"text-align: right;\">0.0239417</td><td style=\"text-align: right;\">0.976058</td></tr>\n",
       "<tr><td style=\"text-align: right;\">        1</td><td style=\"text-align: right;\">0.0255866</td><td style=\"text-align: right;\">0.974413</td></tr>\n",
       "<tr><td style=\"text-align: right;\">        1</td><td style=\"text-align: right;\">0.0239417</td><td style=\"text-align: right;\">0.976058</td></tr>\n",
       "<tr><td style=\"text-align: right;\">        1</td><td style=\"text-align: right;\">0.0147173</td><td style=\"text-align: right;\">0.985283</td></tr>\n",
       "<tr><td style=\"text-align: right;\">        1</td><td style=\"text-align: right;\">0.0183854</td><td style=\"text-align: right;\">0.981615</td></tr>\n",
       "<tr><td style=\"text-align: right;\">        1</td><td style=\"text-align: right;\">0.0239417</td><td style=\"text-align: right;\">0.976058</td></tr>\n",
       "<tr><td style=\"text-align: right;\">        1</td><td style=\"text-align: right;\">0.017396 </td><td style=\"text-align: right;\">0.982604</td></tr>\n",
       "<tr><td style=\"text-align: right;\">        1</td><td style=\"text-align: right;\">0.0255866</td><td style=\"text-align: right;\">0.974413</td></tr>\n",
       "<tr><td style=\"text-align: right;\">        1</td><td style=\"text-align: right;\">0.0183854</td><td style=\"text-align: right;\">0.981615</td></tr>\n",
       "</tbody>\n",
       "</table>"
      ]
     },
     "metadata": {},
     "output_type": "display_data"
    },
    {
     "data": {
      "text/plain": []
     },
     "execution_count": 5,
     "metadata": {},
     "output_type": "execute_result"
    }
   ],
   "source": [
    "### Predict ###\n",
    "model.predict(valid)\n",
    "### Output Interpretation ###\n",
    "### predict = 1 = Course Passed \n",
    "### predict = 0 = Lose the Course"
   ]
  },
  {
   "cell_type": "code",
   "execution_count": 6,
   "id": "fe67c2a5-a8bd-44a7-a147-e4e815630f5d",
   "metadata": {},
   "outputs": [
    {
     "data": {
      "text/plain": [
       "['SUBJ_DESC',\n",
       " 'CRSE_NUMBER',\n",
       " 'GRDE_CODE_FINAL',\n",
       " 'CRN_KEY',\n",
       " 'CRED_ACAD',\n",
       " 'COLL_DESC',\n",
       " 'MAJR_DESC1',\n",
       " 'CAMPUS',\n",
       " 'IND_REP',\n",
       " 'BECA_GOB_ICFES',\n",
       " 'HAVE_BECA',\n",
       " 'HAVE_PHONE',\n",
       " 'PSC',\n",
       " 'PMA',\n",
       " 'PLC',\n",
       " 'PIN',\n",
       " 'PCN',\n",
       " 'ICQU',\n",
       " 'ICMA',\n",
       " 'ICLE',\n",
       " 'ICHI',\n",
       " 'ICGE',\n",
       " 'ICFL',\n",
       " 'ICFI',\n",
       " 'ICBI',\n",
       " 'ICSO']"
      ]
     },
     "execution_count": 6,
     "metadata": {},
     "output_type": "execute_result"
    }
   ],
   "source": [
    "valid.columns"
   ]
  },
  {
   "cell_type": "code",
   "execution_count": null,
   "id": "03a8434f-6d7b-4f51-a661-f8fe847fe213",
   "metadata": {},
   "outputs": [],
   "source": []
  }
 ],
 "metadata": {
  "kernelspec": {
   "display_name": "Python 3",
   "language": "python",
   "name": "python3"
  },
  "language_info": {
   "codemirror_mode": {
    "name": "ipython",
    "version": 3
   },
   "file_extension": ".py",
   "mimetype": "text/x-python",
   "name": "python",
   "nbconvert_exporter": "python",
   "pygments_lexer": "ipython3",
   "version": "3.8.8"
  }
 },
 "nbformat": 4,
 "nbformat_minor": 5
}
